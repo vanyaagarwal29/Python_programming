{
  "nbformat": 4,
  "nbformat_minor": 0,
  "metadata": {
    "colab": {
      "provenance": [],
      "authorship_tag": "ABX9TyMuhHOuL1z5FNPuS0pGbtSc",
      "include_colab_link": true
    },
    "kernelspec": {
      "name": "python3",
      "display_name": "Python 3"
    },
    "language_info": {
      "name": "python"
    }
  },
  "cells": [
    {
      "cell_type": "markdown",
      "metadata": {
        "id": "view-in-github",
        "colab_type": "text"
      },
      "source": [
        "<a href=\"https://colab.research.google.com/github/vanyaagarwal29/Python_programming/blob/main/Python_Programming_7.ipynb\" target=\"_parent\"><img src=\"https://colab.research.google.com/assets/colab-badge.svg\" alt=\"Open In Colab\"/></a>"
      ]
    },
    {
      "cell_type": "markdown",
      "source": [
        "Write a Python Program to find sum of array?"
      ],
      "metadata": {
        "id": "NDJ36KRwXq9P"
      }
    },
    {
      "cell_type": "code",
      "execution_count": 2,
      "metadata": {
        "colab": {
          "base_uri": "https://localhost:8080/"
        },
        "id": "Y6779y8QXiUJ",
        "outputId": "45140d21-7cd4-4694-ce12-15b86833cb0d"
      },
      "outputs": [
        {
          "output_type": "stream",
          "name": "stdout",
          "text": [
            "Sum of the array: 15\n"
          ]
        }
      ],
      "source": [
        "def find_array_sum(arr):\n",
        "    sum=0\n",
        "    n=len(arr)\n",
        "    for i in range(0,n+1):\n",
        "      sum=sum+i\n",
        "    return sum\n",
        "\n",
        "# Example usage\n",
        "array = [1, 2, 3, 4, 5]\n",
        "sum_of_array = find_array_sum(array)\n",
        "print(\"Sum of the array:\", sum_of_array)\n"
      ]
    },
    {
      "cell_type": "markdown",
      "source": [
        "Write a Python Program to find largest element in an array?"
      ],
      "metadata": {
        "id": "Ye8tH4uCTG3B"
      }
    },
    {
      "cell_type": "code",
      "source": [
        "def find_array_maximum(arr):\n",
        "    max=arr[0]\n",
        "    n=len(arr)\n",
        "    for i in range(1,n):\n",
        "      if arr[i]>max:\n",
        "        max=arr[i]\n",
        "    return max\n",
        "\n",
        "\n",
        "\n",
        "# Example usage\n",
        "array = [1, 2, 3, 4, 5]\n",
        "largest_of_array = find_array_maximum(array)\n",
        "print(\"Sum of the array:\", largest_of_array)"
      ],
      "metadata": {
        "id": "IgSvkUc2X80t",
        "colab": {
          "base_uri": "https://localhost:8080/"
        },
        "outputId": "e1c3b985-94e8-4176-e34c-68904c0747c4"
      },
      "execution_count": 6,
      "outputs": [
        {
          "output_type": "stream",
          "name": "stdout",
          "text": [
            "Sum of the array: 5\n"
          ]
        }
      ]
    },
    {
      "cell_type": "markdown",
      "source": [
        "Write a Python Program for array rotation?"
      ],
      "metadata": {
        "id": "YnLfHU5CU_Or"
      }
    },
    {
      "cell_type": "code",
      "source": [
        "def rotate(arr,n,k):\n",
        "  k=k%n\n",
        "  if(k<0):\n",
        "    k+=n\n",
        "  for i in range(k):\n",
        "    temp=arr[n-1]\n",
        "    for j in reversed(range(n-1)):\n",
        "      arr[j+1]=arr[j]\n",
        "    arr[0]=temp\n",
        "  return arr\n",
        "\n",
        "#taking values of an array\n",
        "n=int(input())\n",
        "arr=[]\n",
        "for i in range(n):\n",
        "  value=int(input())\n",
        "  arr.append(value)\n",
        "k=int(input())\n",
        "arr=rotate(arr,n,k)\n",
        "for i in range(n):\n",
        "  print(arr[i],end=\"\")"
      ],
      "metadata": {
        "colab": {
          "base_uri": "https://localhost:8080/"
        },
        "id": "djBUBfAvUSpb",
        "outputId": "2cec1b1c-ef25-417a-f20f-294b89b024c4"
      },
      "execution_count": 12,
      "outputs": [
        {
          "output_type": "stream",
          "name": "stdout",
          "text": [
            "5\n",
            "1\n",
            "2\n",
            "3\n",
            "4\n",
            "5\n",
            "2\n",
            "45123"
          ]
        }
      ]
    },
    {
      "cell_type": "markdown",
      "source": [
        "Write a Python Program to Split the array and add the first part to the end?"
      ],
      "metadata": {
        "id": "mAgntnuHekUz"
      }
    },
    {
      "cell_type": "code",
      "source": [
        "def splitarray(arr,n,k):\n",
        "  for i in range(0,k):\n",
        "    temp=arr[0]\n",
        "    for j in range(0,n-1):\n",
        "      arr[j]=arr[j+1]\n",
        "    arr[n-1]=temp\n",
        "  return arr\n",
        "\n",
        "#taking values of an array\n",
        "n=int(input())\n",
        "arr=[]\n",
        "for i in range(n):\n",
        "  value=int(input())\n",
        "  arr.append(value)\n",
        "k=int(input())\n",
        "arr=splitarray(arr,n,k)\n",
        "for i in range(n):\n",
        "  print(arr[i],end=\"\")"
      ],
      "metadata": {
        "colab": {
          "base_uri": "https://localhost:8080/"
        },
        "id": "u5yLMq_Datv4",
        "outputId": "d8a32e54-38c8-4fc5-a94f-a14d44f30708"
      },
      "execution_count": 14,
      "outputs": [
        {
          "output_type": "stream",
          "name": "stdout",
          "text": [
            "4\n",
            "1\n",
            "2\n",
            "3\n",
            "4\n",
            "2\n",
            "3412"
          ]
        }
      ]
    },
    {
      "cell_type": "markdown",
      "source": [
        "5. Write a Python Program to check if given array is Monotonic?"
      ],
      "metadata": {
        "id": "fngA2vBy1DKw"
      }
    },
    {
      "cell_type": "code",
      "source": [
        "def is_montonic(arr):\n",
        "  increasing=descreasing=True\n",
        "\n",
        "  for i in range(1,len(arr)):\n",
        "    if arr[i]<arr[i-1]:\n",
        "      increasing=False\n",
        "    if arr[i]>arr[i-1]:\n",
        "      decreasing=False\n",
        "  return increasing or decreasing\n",
        "\n",
        "arr=[1,2,3,5,6]\n",
        "print(is_montonic(arr))"
      ],
      "metadata": {
        "colab": {
          "base_uri": "https://localhost:8080/"
        },
        "id": "rN4GmQSufGVN",
        "outputId": "43d0fb9c-57c7-4a8f-c977-760935f07e1d"
      },
      "execution_count": 1,
      "outputs": [
        {
          "output_type": "stream",
          "name": "stdout",
          "text": [
            "True\n"
          ]
        }
      ]
    },
    {
      "cell_type": "code",
      "source": [],
      "metadata": {
        "id": "KHT-QlNy042J"
      },
      "execution_count": null,
      "outputs": []
    }
  ]
}