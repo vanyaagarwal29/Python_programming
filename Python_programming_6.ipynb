{
  "nbformat": 4,
  "nbformat_minor": 0,
  "metadata": {
    "colab": {
      "provenance": [],
      "authorship_tag": "ABX9TyP195PH1oinggqCsA7IA9Yr",
      "include_colab_link": true
    },
    "kernelspec": {
      "name": "python3",
      "display_name": "Python 3"
    },
    "language_info": {
      "name": "python"
    }
  },
  "cells": [
    {
      "cell_type": "markdown",
      "metadata": {
        "id": "view-in-github",
        "colab_type": "text"
      },
      "source": [
        "<a href=\"https://colab.research.google.com/github/vanyaagarwal29/Python_programming/blob/main/Python_programming_6.ipynb\" target=\"_parent\"><img src=\"https://colab.research.google.com/assets/colab-badge.svg\" alt=\"Open In Colab\"/></a>"
      ]
    },
    {
      "cell_type": "markdown",
      "source": [
        "Write a Python Program to Display Fibonacci Sequence Using Recursion?"
      ],
      "metadata": {
        "id": "7v1fH8xbNMnP"
      }
    },
    {
      "cell_type": "code",
      "execution_count": 1,
      "metadata": {
        "colab": {
          "base_uri": "https://localhost:8080/"
        },
        "id": "eodN4SVnNFFw",
        "outputId": "d88c2af1-56d9-4c58-8c9f-eab328322dba"
      },
      "outputs": [
        {
          "output_type": "stream",
          "name": "stdout",
          "text": [
            "Enter the number of terms in the Fibonacci sequence: 7\n",
            "Fibonacci Sequence:\n",
            "0 1 1 2 3 5 8 "
          ]
        }
      ],
      "source": [
        "def fibonacci(n):\n",
        "  if n==0:\n",
        "    return []\n",
        "  elif n==1:\n",
        "    return[0]\n",
        "  elif n==2:\n",
        "    return [0,1]\n",
        "  else:\n",
        "    sequence=fibonacci(n-1)\n",
        "    next_number=sequence[-1]+sequence[-2]\n",
        "    sequence.append(next_number)\n",
        "    return sequence\n",
        "n = int(input(\"Enter the number of terms in the Fibonacci sequence: \"))\n",
        "\n",
        "# Call the fibonacci() function\n",
        "fib_sequence = fibonacci(n)\n",
        "\n",
        "# Print the Fibonacci sequence\n",
        "print(\"Fibonacci Sequence:\")\n",
        "for number in fib_sequence:\n",
        "    print(number, end=\" \")"
      ]
    },
    {
      "cell_type": "markdown",
      "source": [
        "Write a Python Program to Find Factorial of Number Using Recursion?"
      ],
      "metadata": {
        "id": "D078KNQqP5MZ"
      }
    },
    {
      "cell_type": "code",
      "source": [
        "def factorial(n):\n",
        "  if n<=0:\n",
        "    return 0\n",
        "  elif n==1:\n",
        "    return 1\n",
        "  else:\n",
        "    factorial_num=n*factorial(n-1)\n",
        "    return factorial_num\n",
        "n=int(input())\n",
        "result=factorial(n)\n",
        "print(result)\n"
      ],
      "metadata": {
        "colab": {
          "base_uri": "https://localhost:8080/"
        },
        "id": "yyTQBDqmP-b_",
        "outputId": "01114d21-fa4f-4eba-9388-d1148bbd681e"
      },
      "execution_count": 3,
      "outputs": [
        {
          "output_type": "stream",
          "name": "stdout",
          "text": [
            "2\n",
            "2\n"
          ]
        }
      ]
    },
    {
      "cell_type": "markdown",
      "source": [
        "Write a Python Program to calculate the natural logarithm of any number?"
      ],
      "metadata": {
        "id": "Ssc5Clv0Rw-B"
      }
    },
    {
      "cell_type": "code",
      "source": [
        "import math\n",
        "def logarithmic(n):\n",
        "  if n==0:\n",
        "    return \"undefined\"\n",
        "  else:\n",
        "    log_num=math.log(n)\n",
        "    return log_num\n",
        "n=7\n",
        "result=logarithmic(n)\n",
        "print(result)\n",
        "\n"
      ],
      "metadata": {
        "colab": {
          "base_uri": "https://localhost:8080/"
        },
        "id": "gO9z47VqRBHI",
        "outputId": "13c6808e-0451-4928-bfe9-ea5a8e3282e5"
      },
      "execution_count": 4,
      "outputs": [
        {
          "output_type": "stream",
          "name": "stdout",
          "text": [
            "1.9459101490553132\n"
          ]
        }
      ]
    },
    {
      "cell_type": "markdown",
      "source": [
        "Write a Python Program for cube sum of first n natural numbers?"
      ],
      "metadata": {
        "id": "gj_Uvk6IUXAv"
      }
    },
    {
      "cell_type": "code",
      "source": [
        "n=int(input())\n",
        "sum=0\n",
        "for i in range(1,n+1):\n",
        "  sum=sum+(i*i*i)\n",
        "\n",
        "print(sum)"
      ],
      "metadata": {
        "colab": {
          "base_uri": "https://localhost:8080/"
        },
        "id": "TGGWyo9qUYWY",
        "outputId": "04af287a-7350-4433-e8f6-85355ea7d7b8"
      },
      "execution_count": 8,
      "outputs": [
        {
          "output_type": "stream",
          "name": "stdout",
          "text": [
            "67\n",
            "5189284\n"
          ]
        }
      ]
    },
    {
      "cell_type": "code",
      "source": [],
      "metadata": {
        "id": "q0B4DJBWUR0Z"
      },
      "execution_count": null,
      "outputs": []
    }
  ]
}