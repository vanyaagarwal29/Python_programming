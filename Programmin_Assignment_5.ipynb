{
  "nbformat": 4,
  "nbformat_minor": 0,
  "metadata": {
    "colab": {
      "provenance": [],
      "authorship_tag": "ABX9TyMsPRL2HSnCuTSZhQXmo1CN",
      "include_colab_link": true
    },
    "kernelspec": {
      "name": "python3",
      "display_name": "Python 3"
    },
    "language_info": {
      "name": "python"
    }
  },
  "cells": [
    {
      "cell_type": "markdown",
      "metadata": {
        "id": "view-in-github",
        "colab_type": "text"
      },
      "source": [
        "<a href=\"https://colab.research.google.com/github/vanyaagarwal29/Python_programming/blob/main/Programmin_Assignment_5.ipynb\" target=\"_parent\"><img src=\"https://colab.research.google.com/assets/colab-badge.svg\" alt=\"Open In Colab\"/></a>"
      ]
    },
    {
      "cell_type": "markdown",
      "source": [
        "Write a Python Program to Find LCM?"
      ],
      "metadata": {
        "id": "mRTlmQkg-cCN"
      }
    },
    {
      "cell_type": "code",
      "execution_count": null,
      "metadata": {
        "colab": {
          "base_uri": "https://localhost:8080/"
        },
        "id": "7kbd1SuF-Z1j",
        "outputId": "154c83ea-036f-4aec-9ceb-687ff75e5ef6"
      },
      "outputs": [
        {
          "output_type": "stream",
          "name": "stdout",
          "text": [
            "10\n"
          ]
        }
      ],
      "source": [
        "def lcm(a,b):\n",
        "  max_number=max(a,b)\n",
        "\n",
        "  while True:\n",
        "    if max_number%a==0 and max_number%b==0:\n",
        "      lcm=max_number\n",
        "      break\n",
        "    max_number+=1\n",
        "  return lcm\n",
        "\n",
        "a=10\n",
        "b=5\n",
        "result=lcm(a,b)\n",
        "print(result)    "
      ]
    },
    {
      "cell_type": "markdown",
      "source": [
        "Write a Python Program to Find LCM?"
      ],
      "metadata": {
        "id": "ndqRgHxlNatk"
      }
    },
    {
      "cell_type": "code",
      "source": [
        "def lcm(a,b):\n",
        "  max_num=max(a,b)\n",
        "  lcm=max_num\n",
        "\n",
        "  while True:\n",
        "    if lcm%a==0 and lcm%b==0:\n",
        "      break\n",
        "    lcm+=max_num\n",
        "  return lcm\n",
        "\n",
        "a=10\n",
        "b=5\n",
        "result=lcm(a,b)\n",
        "print(result)\n",
        "\n"
      ],
      "metadata": {
        "id": "B3soWodOA2Eg",
        "colab": {
          "base_uri": "https://localhost:8080/"
        },
        "outputId": "f38aa53d-06b5-499f-ff66-75c85dca20e4"
      },
      "execution_count": 1,
      "outputs": [
        {
          "output_type": "stream",
          "name": "stdout",
          "text": [
            "10\n"
          ]
        }
      ]
    },
    {
      "cell_type": "markdown",
      "source": [
        "Write a Python Program to Find HCF?"
      ],
      "metadata": {
        "id": "45K7LUs4QMP7"
      }
    },
    {
      "cell_type": "code",
      "source": [
        "def hcf(a,b):\n",
        "  min_num=min(a,b)\n",
        "  hcf=1\n",
        "  for i in range(2,min_num +1):\n",
        "    if a%i == 0 and b%i==0:\n",
        "      hcf=i\n",
        "  return hcf\n",
        "a=10\n",
        "b=5\n",
        "result=hcf(a,b)\n",
        "print(result)\n",
        "\n"
      ],
      "metadata": {
        "colab": {
          "base_uri": "https://localhost:8080/"
        },
        "id": "_xvrCoa1PqAe",
        "outputId": "45b44216-986f-4ecc-d821-b77d022f6753"
      },
      "execution_count": 3,
      "outputs": [
        {
          "output_type": "stream",
          "name": "stdout",
          "text": [
            "5\n"
          ]
        }
      ]
    },
    {
      "cell_type": "markdown",
      "source": [
        "Write a Python Program to Convert Decimal to Binary, Octal and Hexadecimal?"
      ],
      "metadata": {
        "id": "O884_2cfS0XQ"
      }
    },
    {
      "cell_type": "code",
      "source": [
        "def decimal_to_binary(decimal):\n",
        "  binary=\"\"\n",
        "  while decimal>0:\n",
        "    binary=str(decimal % 2)+ binary\n",
        "    decimal=decimal//2\n",
        "  return binary\n",
        "def decimal_to_octal(decimal):\n",
        "  octal=\"\"\n",
        "  while decimal>0:\n",
        "    octal=str(decimal%8)+octal\n",
        "    decimal=decimal//8\n",
        "  return octal\n",
        "def decimal_to_hexadecimal(decimal):\n",
        "  hexa_decimal=\"\"\n",
        "  hex_chars=\"0123456789ABCDEF\"\n",
        "  while decimal>0:\n",
        "    remainder=decimal%16\n",
        "    hexa_decimal=hex_chars[remainder]+hexa_decimal\n",
        "    decimal=decimal//16\n",
        "  return hexa_decimal\n",
        "decimal_number=18\n",
        "binary_number = decimal_to_binary(decimal_number)\n",
        "octal_number = decimal_to_octal(decimal_number)\n",
        "hexadecimal_number = decimal_to_hexadecimal(decimal_number)\n",
        "\n",
        "# Print the converted numbers\n",
        "print(\"Binary: \", binary_number)\n",
        "print(\"Octal: \", octal_number)\n",
        "print(\"Hexadecimal: \", hexadecimal_number)\n"
      ],
      "metadata": {
        "colab": {
          "base_uri": "https://localhost:8080/"
        },
        "id": "XuNN9J7kRf9K",
        "outputId": "930a42b0-ec8d-46d9-aa3d-bbfa85dd3633"
      },
      "execution_count": 13,
      "outputs": [
        {
          "output_type": "stream",
          "name": "stdout",
          "text": [
            "Binary:  10010\n",
            "Octal:  22\n",
            "Hexadecimal:  12\n"
          ]
        }
      ]
    },
    {
      "cell_type": "markdown",
      "source": [
        "Write a Python Program To Find ASCII value of a character?"
      ],
      "metadata": {
        "id": "S-aE4wDOHOXZ"
      }
    },
    {
      "cell_type": "code",
      "source": [
        "character=input()\n",
        "ascii_character=ord(character)\n",
        "print(ascii_character)"
      ],
      "metadata": {
        "colab": {
          "base_uri": "https://localhost:8080/"
        },
        "id": "cMFM9lXRevFb",
        "outputId": "886653fe-f129-49b5-c6bb-d011e71e1d6e"
      },
      "execution_count": 2,
      "outputs": [
        {
          "output_type": "stream",
          "name": "stdout",
          "text": [
            "a\n",
            "97\n"
          ]
        }
      ]
    },
    {
      "cell_type": "markdown",
      "source": [
        "Write a Python Program to Make a Simple Calculator with 4 basic mathematical operations?"
      ],
      "metadata": {
        "id": "_ijSrysNKqJc"
      }
    },
    {
      "cell_type": "code",
      "source": [
        "a=int(input())\n",
        "b=int(input())\n",
        "operator=input()\n",
        "\n",
        "if operator == '+':\n",
        "  c=a+b\n",
        "  print(c)\n",
        "elif operator=='-':\n",
        "  c=a-b\n",
        "  print(c)\n",
        "elif operator== '/':\n",
        "  c=a/b\n",
        "  print(c)\n",
        "else:\n",
        "  c=a*b\n",
        "  print(c)"
      ],
      "metadata": {
        "colab": {
          "base_uri": "https://localhost:8080/"
        },
        "id": "fUwx4AjqJ5q1",
        "outputId": "e0d07e5e-918d-4660-e9c2-9caf3b41d5ab"
      },
      "execution_count": 9,
      "outputs": [
        {
          "output_type": "stream",
          "name": "stdout",
          "text": [
            "2\n",
            "6\n",
            "*\n",
            "12\n"
          ]
        }
      ]
    },
    {
      "cell_type": "code",
      "source": [],
      "metadata": {
        "id": "4wHuYngdK_T_"
      },
      "execution_count": null,
      "outputs": []
    }
  ]
}