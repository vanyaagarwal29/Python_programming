{
  "nbformat": 4,
  "nbformat_minor": 0,
  "metadata": {
    "colab": {
      "provenance": [],
      "authorship_tag": "ABX9TyOzR1imR7P/Ign9FE7CVDf1",
      "include_colab_link": true
    },
    "kernelspec": {
      "name": "python3",
      "display_name": "Python 3"
    },
    "language_info": {
      "name": "python"
    }
  },
  "cells": [
    {
      "cell_type": "markdown",
      "metadata": {
        "id": "view-in-github",
        "colab_type": "text"
      },
      "source": [
        "<a href=\"https://colab.research.google.com/github/vanyaagarwal29/Python_programming/blob/main/Programming_Assignment1.ipynb\" target=\"_parent\"><img src=\"https://colab.research.google.com/assets/colab-badge.svg\" alt=\"Open In Colab\"/></a>"
      ]
    },
    {
      "cell_type": "code",
      "execution_count": null,
      "metadata": {
        "colab": {
          "base_uri": "https://localhost:8080/"
        },
        "id": "P99xa70jx1f3",
        "outputId": "a0771d2c-3f99-42c3-a5f9-45ca35f5d9d0"
      },
      "outputs": [
        {
          "output_type": "stream",
          "name": "stdout",
          "text": [
            "Hello World\n"
          ]
        }
      ],
      "source": [
        "print('Hello World')"
      ]
    },
    {
      "cell_type": "code",
      "source": [
        "class arithmetical_operation:\n",
        "  def addition_operation(self, a, b):\n",
        "    c=a+b\n",
        "    print(c)\n",
        "  def divison_operation(self,a,b):\n",
        "    d=a/b\n",
        "    print(d)\n",
        "a=int(input())\n",
        "b=int(input())\n",
        "fun=arithmetical_operation()\n",
        "\n",
        "fun.addition_operation(a,b)\n",
        "fun.divison_operation(a,b)\n"
      ],
      "metadata": {
        "colab": {
          "base_uri": "https://localhost:8080/"
        },
        "id": "ef_v8bffzWf9",
        "outputId": "79edeb8f-ac0f-41c8-8a64-94f3c66c758f"
      },
      "execution_count": null,
      "outputs": [
        {
          "output_type": "stream",
          "name": "stdout",
          "text": [
            "4\n",
            "2\n",
            "6\n",
            "2.0\n"
          ]
        }
      ]
    },
    {
      "cell_type": "code",
      "source": [
        "class traingle:\n",
        "  def area(self,b,h):\n",
        "    a=1/2*b*h\n",
        "    print(\"The area is\", a)\n",
        "b=int(input())\n",
        "h=int(input())\n",
        "fun1=traingle()\n",
        "fun1.area(b,h)"
      ],
      "metadata": {
        "colab": {
          "base_uri": "https://localhost:8080/"
        },
        "id": "IpR-hYZf2yRw",
        "outputId": "ad798310-2ec3-4f19-e6b9-a6576529b5c6"
      },
      "execution_count": null,
      "outputs": [
        {
          "output_type": "stream",
          "name": "stdout",
          "text": [
            "6\n",
            "7\n",
            "The area is 21.0\n"
          ]
        }
      ]
    },
    {
      "cell_type": "code",
      "source": [
        "def swap(a,b):\n",
        "  a,b=b,a\n",
        "  print(a,b)\n",
        "a=int(input())\n",
        "b=int(input())\n",
        "swap(a,b)"
      ],
      "metadata": {
        "colab": {
          "base_uri": "https://localhost:8080/"
        },
        "id": "P5Oy48dt2ukE",
        "outputId": "ae869122-06b4-4650-f07c-f7e5d1fb26c2"
      },
      "execution_count": null,
      "outputs": [
        {
          "output_type": "stream",
          "name": "stdout",
          "text": [
            "7\n",
            "9\n",
            "9 7\n"
          ]
        }
      ]
    },
    {
      "cell_type": "code",
      "source": [
        "from random import random\n",
        "print(random())"
      ],
      "metadata": {
        "colab": {
          "base_uri": "https://localhost:8080/"
        },
        "id": "VjutoCci6Gv2",
        "outputId": "4cc83705-e5e1-4cb8-c5bf-a5c45c85ab1e"
      },
      "execution_count": null,
      "outputs": [
        {
          "output_type": "stream",
          "name": "stdout",
          "text": [
            "0.2840510852571747\n"
          ]
        }
      ]
    }
  ]
}