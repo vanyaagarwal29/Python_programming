{
  "nbformat": 4,
  "nbformat_minor": 0,
  "metadata": {
    "colab": {
      "provenance": [],
      "authorship_tag": "ABX9TyOWhwiG6DYsRSjUiJ1U00Y+",
      "include_colab_link": true
    },
    "kernelspec": {
      "name": "python3",
      "display_name": "Python 3"
    },
    "language_info": {
      "name": "python"
    }
  },
  "cells": [
    {
      "cell_type": "markdown",
      "metadata": {
        "id": "view-in-github",
        "colab_type": "text"
      },
      "source": [
        "<a href=\"https://colab.research.google.com/github/vanyaagarwal29/Python_programming/blob/main/Python_Advance_Assignment_19.ipynb\" target=\"_parent\"><img src=\"https://colab.research.google.com/assets/colab-badge.svg\" alt=\"Open In Colab\"/></a>"
      ]
    },
    {
      "cell_type": "code",
      "execution_count": null,
      "metadata": {
        "id": "8nQAvt8d22j-"
      },
      "outputs": [],
      "source": []
    },
    {
      "cell_type": "markdown",
      "source": [
        "Q1. Relationship between a Class and its Instances:\n",
        "The relationship between a class and its instances is a one-to-many partnership. A class is a blueprint or template that defines the structure and behavior of objects, while instances are individual objects created based on that blueprint.\n",
        "\n",
        "Q2. Data Held only in an Instance:\n",
        "Instance variables (also known as attributes) hold data that is specific to each instance of a class. Each instance can have different values for these variables.\n",
        "\n",
        "Q3. Knowledge Stored in a Class:\n",
        "A class stores shared data and behavior for all its instances. Class variables (also known as static variables) and methods (functions defined within the class) represent shared data and functionality.\n",
        "\n",
        "Q4. Method vs. Regular Function:\n",
        "A method is a function defined within a class that operates on its instances. It takes the instance (usually named 'self') as its first parameter and can access and modify instance variables. A regular function is not associated with any class and operates independently.\n",
        "\n",
        "Q5. Inheritance in Python:\n",
        "Yes, inheritance is supported in Python. The syntax for inheritance is as follows:\n",
        "```python\n",
        "class ChildClass(ParentClass):\n",
        "    # ChildClass inherits from ParentClass\n",
        "    # ChildClass can access attributes and methods of ParentClass\n",
        "    pass\n",
        "```\n",
        "\n",
        "Q6. Encapsulation in Python:\n",
        "Python supports limited encapsulation by using name mangling for instance variables that start with double underscores. These variables are automatically converted to a unique name to make them \"private.\" However, this is more of a convention, and the variables can still be accessed from outside the class.\n",
        "\n",
        "Q7. Distinguishing Class Variable and Instance Variable:\n",
        "A class variable is shared among all instances of the class and is defined within the class scope. An instance variable is specific to each instance and is defined within the constructor method (`__init__`) using the `self` keyword.\n",
        "\n",
        "Q8. Usage of 'self' in Method Definitions:\n",
        "In Python, the `self` parameter is included in all instance methods. It represents the instance on which the method is called and allows the method to access and modify instance variables and call other instance methods.\n",
        "\n",
        "Q9. Difference between `__add__` and `__radd__` Methods:\n",
        "`__add__` is called when the '+' operator is used with the object on the left side. `__radd__` is called when the '+' operator is used with the object on the right side (and the left-side object does not support the addition operation).\n",
        "\n",
        "Q10. When to Use Reflection Method:\n",
        "Reflection methods like `getattr()` and `setattr()` are used when you want to dynamically access or modify attributes of an object based on their names as strings. They are useful when you don't know the attribute names beforehand.\n",
        "\n",
        "Q11. `__iadd__` Method:\n",
        "`__iadd__` stands for \"in-place addition\" and is called when the `+=` operator is used on an object. It allows you to modify the object itself during the addition operation.\n",
        "\n",
        "Q12. Inheritance of `__init__` Method in Subclasses:\n",
        "Yes, the `__init__` method is inherited by subclasses. If you need to customize its behavior in a subclass, you can override it by defining a new `__init__` method in the subclass. To call the `__init__` method of the parent class, you can use `super()` within the subclass's `__init__` method."
      ],
      "metadata": {
        "id": "kCPjJjuA29l0"
      }
    },
    {
      "cell_type": "code",
      "source": [],
      "metadata": {
        "id": "_CZZ7pbU2-o-"
      },
      "execution_count": null,
      "outputs": []
    }
  ]
}