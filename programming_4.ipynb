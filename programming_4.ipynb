{
  "nbformat": 4,
  "nbformat_minor": 0,
  "metadata": {
    "colab": {
      "provenance": [],
      "authorship_tag": "ABX9TyPqLRoQ+Ef0S1GOiIlEITdP",
      "include_colab_link": true
    },
    "kernelspec": {
      "name": "python3",
      "display_name": "Python 3"
    },
    "language_info": {
      "name": "python"
    }
  },
  "cells": [
    {
      "cell_type": "markdown",
      "metadata": {
        "id": "view-in-github",
        "colab_type": "text"
      },
      "source": [
        "<a href=\"https://colab.research.google.com/github/vanyaagarwal29/Python_programming/blob/main/programming_4.ipynb\" target=\"_parent\"><img src=\"https://colab.research.google.com/assets/colab-badge.svg\" alt=\"Open In Colab\"/></a>"
      ]
    },
    {
      "cell_type": "markdown",
      "source": [
        "Write a Python Program to Find the Factorial of a Number?"
      ],
      "metadata": {
        "id": "nTtmtjwFEtvP"
      }
    },
    {
      "cell_type": "code",
      "execution_count": null,
      "metadata": {
        "colab": {
          "base_uri": "https://localhost:8080/"
        },
        "id": "rpTR95QTErYw",
        "outputId": "98604369-a81b-42e5-ae92-91f349bc0478"
      },
      "outputs": [
        {
          "output_type": "stream",
          "name": "stdout",
          "text": [
            "5040\n"
          ]
        }
      ],
      "source": [
        "def factorial(n):\n",
        "  if n==1:\n",
        "    return 1\n",
        "  elif n==0:\n",
        "    return 0\n",
        "  else:\n",
        "    return n*factorial(n-1)\n",
        "n=7\n",
        "result=factorial(n)\n",
        "print(result)\n"
      ]
    },
    {
      "cell_type": "markdown",
      "source": [
        "Write a Python Program to Display the multiplication Table?"
      ],
      "metadata": {
        "id": "bBSuvfxlGxiC"
      }
    },
    {
      "cell_type": "code",
      "source": [
        "def multiplication_table(n):\n",
        "  for i in range(1,11):\n",
        "    print(n, \"x\", i, \"=\", n*i)\n",
        "n=2\n",
        "result=multiplication_table(n)\n",
        "print(result)\n"
      ],
      "metadata": {
        "colab": {
          "base_uri": "https://localhost:8080/"
        },
        "id": "O6ngoiusGxPb",
        "outputId": "5023616c-d3ec-4a97-f91d-98d5998d4029"
      },
      "execution_count": null,
      "outputs": [
        {
          "output_type": "stream",
          "name": "stdout",
          "text": [
            "2 x 1 = 2\n",
            "2 x 2 = 4\n",
            "2 x 3 = 6\n",
            "2 x 4 = 8\n",
            "2 x 5 = 10\n",
            "2 x 6 = 12\n",
            "2 x 7 = 14\n",
            "2 x 8 = 16\n",
            "2 x 9 = 18\n",
            "2 x 10 = 20\n",
            "None\n"
          ]
        }
      ]
    },
    {
      "cell_type": "markdown",
      "source": [
        "Write a Python Program to Print the Fibonacci sequence?"
      ],
      "metadata": {
        "id": "12xx5VU9IxvU"
      }
    },
    {
      "cell_type": "code",
      "source": [
        "def fibonacci(n):\n",
        "  series=[0,1]\n",
        "  if n<=2:\n",
        "    return 1\n",
        "  \n",
        "  while len(series)<n:\n",
        "    next_number=series[-1]+series[-2]\n",
        "    series.append(next_number)\n",
        "  return series\n",
        "\n",
        "n=7\n",
        "result=fibonacci(n)\n",
        "print(result)\n",
        "   \n",
        "\n",
        "  \n"
      ],
      "metadata": {
        "id": "mwH-8NrTIxCd",
        "colab": {
          "base_uri": "https://localhost:8080/"
        },
        "outputId": "032fa9e5-f0ae-439f-8daa-4e6225a3302d"
      },
      "execution_count": 1,
      "outputs": [
        {
          "output_type": "stream",
          "name": "stdout",
          "text": [
            "[0, 1, 1, 2, 3, 5, 8]\n"
          ]
        }
      ]
    },
    {
      "cell_type": "markdown",
      "source": [
        "Write a Python Program to Check Armstrong Number?"
      ],
      "metadata": {
        "id": "NCZw0N32wok8"
      }
    },
    {
      "cell_type": "code",
      "source": [
        "def armstrong(n):\n",
        "  n_str=str(n)\n",
        "  num_len=len(n_str)\n",
        "  sum_of_digits=sum(int(i)**num_len for i in n_str)\n",
        "  if sum_of_digits==n:\n",
        "    return True\n",
        "  else:\n",
        "    return False\n",
        "n=371\n",
        "if armstrong(n):\n",
        "  print(\"is\")\n",
        "else:\n",
        "  print(\"not\")"
      ],
      "metadata": {
        "colab": {
          "base_uri": "https://localhost:8080/"
        },
        "id": "yyevy3S9xmPd",
        "outputId": "9256b8bf-60d9-4276-e165-6c80108d466e"
      },
      "execution_count": 6,
      "outputs": [
        {
          "output_type": "stream",
          "name": "stdout",
          "text": [
            "is\n"
          ]
        }
      ]
    },
    {
      "cell_type": "markdown",
      "source": [
        "Write a Python Program to Find Armstrong Number in an Interval?"
      ],
      "metadata": {
        "id": "SrSz-Br80eR4"
      }
    },
    {
      "cell_type": "code",
      "source": [
        "def armstrong(n):\n",
        "  n_str=str(n)\n",
        "  num_len=len(n_str)\n",
        "\n",
        "  sum_of_digits=sum(int(i) ** num_len for i in n_str)\n",
        "  if sum_of_digits==n:\n",
        "    return True\n",
        "  else:\n",
        "    return False\n",
        "\n",
        "def armstrong_interval(start,end):\n",
        "  armstrong_numbers=[]\n",
        "  for n in range(start,end+1):\n",
        "    if armstrong(n):\n",
        "      armstrong_numbers.append(n)\n",
        "  return armstrong_numbers\n",
        "start=7\n",
        "end=400\n",
        "\n",
        "armstrong_nums=armstrong_interval(start,end)\n",
        "if len(armstrong_nums)==0:\n",
        "  print(\"is not\")\n",
        "else:\n",
        "  print(\"numbers are\")\n",
        "  print(armstrong_nums)"
      ],
      "metadata": {
        "colab": {
          "base_uri": "https://localhost:8080/"
        },
        "id": "K0NnrN8u2mYQ",
        "outputId": "3dc96103-0de6-4f3a-c8cc-e785a6f0f3cf"
      },
      "execution_count": 12,
      "outputs": [
        {
          "output_type": "stream",
          "name": "stdout",
          "text": [
            "numbers are\n",
            "[7, 8, 9, 153, 370, 371]\n"
          ]
        }
      ]
    },
    {
      "cell_type": "markdown",
      "source": [
        "Write a Python Program to Find the Sum of Natural Numbers?"
      ],
      "metadata": {
        "id": "nYM0y1_eEs24"
      }
    },
    {
      "cell_type": "code",
      "source": [
        "def natural(n):\n",
        "  sum=0\n",
        "  for i in range(n):\n",
        "    sum=sum+i\n",
        "  return sum\n",
        "n=10\n",
        "result=natural(n)\n",
        "print(result)"
      ],
      "metadata": {
        "colab": {
          "base_uri": "https://localhost:8080/"
        },
        "id": "ghj5sFzb70nU",
        "outputId": "cf205eba-b698-44a6-c872-bb13d82c8448"
      },
      "execution_count": 15,
      "outputs": [
        {
          "output_type": "stream",
          "name": "stdout",
          "text": [
            "45\n"
          ]
        }
      ]
    },
    {
      "cell_type": "code",
      "source": [],
      "metadata": {
        "id": "mdYmod4r8MfC"
      },
      "execution_count": null,
      "outputs": []
    }
  ]
}